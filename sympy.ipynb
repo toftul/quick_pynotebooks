{
 "cells": [
  {
   "cell_type": "code",
   "execution_count": 12,
   "id": "087b8cc5",
   "metadata": {},
   "outputs": [],
   "source": [
    "from sympy import *\n",
    "init_printing()"
   ]
  },
  {
   "cell_type": "code",
   "execution_count": 13,
   "id": "c3114445",
   "metadata": {},
   "outputs": [],
   "source": [
    "x, dx = symbols('x d_x')\n",
    "y, dy = symbols('y d_y')\n",
    "z, dz = symbols('z d_z')"
   ]
  },
  {
   "cell_type": "code",
   "execution_count": 14,
   "id": "697fa029",
   "metadata": {},
   "outputs": [
    {
     "data": {
      "image/png": "[encoded data removed]",
      "text/latex": [
       "$\\displaystyle d_{x}^{2} y^{2} + d_{x}^{2} z^{2} - 2 d_{x} d_{y} x y - 2 d_{x} d_{z} x z + d_{y}^{2} x^{2} + d_{y}^{2} z^{2} - 2 d_{y} d_{z} y z + d_{z}^{2} x^{2} + d_{z}^{2} y^{2}$"
      ],
      "text/plain": [
       "  2  2     2  2                                    2  2      2  2             \n",
       "dₓ ⋅y  + dₓ ⋅z  - 2⋅dₓ⋅d_y⋅x⋅y - 2⋅dₓ⋅d_z⋅x⋅z + d_y ⋅x  + d_y ⋅z  - 2⋅d_y⋅d_z⋅\n",
       "\n",
       "         2  2      2  2\n",
       "y⋅z + d_z ⋅x  + d_z ⋅y "
      ]
     },
     "execution_count": 14,
     "metadata": {},
     "output_type": "execute_result"
    }
   ],
   "source": [
    "expand((y*dz - z*dy)**2 + (z*dx - x*dz)**2 + (x*dy - y*dx)**2)"
   ]
  },
  {
   "cell_type": "code",
   "execution_count": null,
   "id": "d7a4923c",
   "metadata": {},
   "outputs": [],
   "source": []
  }
 ],
 "metadata": {
  "kernelspec": {
   "display_name": "Python 3 (ipykernel)",
   "language": "python",
   "name": "python3"
  },
  "language_info": {
   "codemirror_mode": {
    "name": "ipython",
    "version": 3
   },
   "file_extension": ".py",
   "mimetype": "text/x-python",
   "name": "python",
   "nbconvert_exporter": "python",
   "pygments_lexer": "ipython3",
   "version": "3.10.0"
  }
 },
 "nbformat": 4,
 "nbformat_minor": 5
}
